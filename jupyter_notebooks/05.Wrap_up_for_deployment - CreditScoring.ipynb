{
 "cells": [
  {
   "cell_type": "markdown",
   "metadata": {},
   "source": [
    "## Machine Learning Model Building Pipeline: Wrapping up for Deployment"
   ]
  },
  {
   "cell_type": "code",
   "execution_count": 72,
   "metadata": {},
   "outputs": [],
   "source": [
    "# to handle datasets\n",
    "import pandas as pd\n",
    "import numpy as np\n",
    "\n",
    "# to divide train and test set\n",
    "from sklearn.model_selection import train_test_split\n",
    "\n",
    "# feature scaling\n",
    "from sklearn.preprocessing import MinMaxScaler\n",
    "\n",
    "# to build the models\n",
    "from sklearn.ensemble import RandomForestClassifier\n",
    "\n",
    "# to evaluate the models\n",
    "from sklearn.metrics import roc_auc_score\n",
    "\n",
    "# to persist the model and the scaler\n",
    "from sklearn.externals import joblib\n",
    "\n",
    "# to visualise al the columns in the dataframe\n",
    "pd.pandas.set_option('display.max_columns', None)\n",
    "\n",
    "# to ignore warnings\n",
    "import warnings\n",
    "warnings.simplefilter('ignore')"
   ]
  },
  {
   "cell_type": "code",
   "execution_count": 4,
   "metadata": {},
   "outputs": [
    {
     "name": "stdout",
     "output_type": "stream",
     "text": [
      "(27917, 32)\n"
     ]
    },
    {
     "data": {
      "text/html": [
       "<div>\n",
       "<style scoped>\n",
       "    .dataframe tbody tr th:only-of-type {\n",
       "        vertical-align: middle;\n",
       "    }\n",
       "\n",
       "    .dataframe tbody tr th {\n",
       "        vertical-align: top;\n",
       "    }\n",
       "\n",
       "    .dataframe thead th {\n",
       "        text-align: right;\n",
       "    }\n",
       "</style>\n",
       "<table border=\"1\" class=\"dataframe\">\n",
       "  <thead>\n",
       "    <tr style=\"text-align: right;\">\n",
       "      <th></th>\n",
       "      <th>ID</th>\n",
       "      <th>Status</th>\n",
       "      <th>Amount</th>\n",
       "      <th>ApplicationSignedHour</th>\n",
       "      <th>ApplicationSignedWeekday</th>\n",
       "      <th>City</th>\n",
       "      <th>Country</th>\n",
       "      <th>CreditScoreEsEquifaxRisk</th>\n",
       "      <th>DateOfBirth</th>\n",
       "      <th>DebtToIncome</th>\n",
       "      <th>Education</th>\n",
       "      <th>EmploymentDurationCurrentEmployer</th>\n",
       "      <th>EmploymentPosition</th>\n",
       "      <th>EmploymentStatus</th>\n",
       "      <th>ExistingLiabilities</th>\n",
       "      <th>Gender</th>\n",
       "      <th>HomeOwnershipType</th>\n",
       "      <th>IncomeFromPrincipalEmployer</th>\n",
       "      <th>IncomeTotal</th>\n",
       "      <th>Interest rate (APR)</th>\n",
       "      <th>LoanDate</th>\n",
       "      <th>LoanDuration</th>\n",
       "      <th>MaritalStatus</th>\n",
       "      <th>NewCreditCustomer</th>\n",
       "      <th>NoOfPreviousLoansBeforeLoan</th>\n",
       "      <th>OccupationArea</th>\n",
       "      <th>UseOfLoan</th>\n",
       "      <th>VerificationType</th>\n",
       "      <th>WorkExperience</th>\n",
       "      <th>PreviousScore</th>\n",
       "      <th>Defaulted</th>\n",
       "      <th>DefaultDate</th>\n",
       "    </tr>\n",
       "  </thead>\n",
       "  <tbody>\n",
       "    <tr>\n",
       "      <th>0</th>\n",
       "      <td>0</td>\n",
       "      <td>Current</td>\n",
       "      <td>5000.0</td>\n",
       "      <td>12</td>\n",
       "      <td>4</td>\n",
       "      <td>AESPA</td>\n",
       "      <td>EE</td>\n",
       "      <td>NaN</td>\n",
       "      <td>21/11/1975</td>\n",
       "      <td>51.52</td>\n",
       "      <td>4.0</td>\n",
       "      <td>UpTo5Years</td>\n",
       "      <td>Worker</td>\n",
       "      <td>3.0</td>\n",
       "      <td>9</td>\n",
       "      <td>0.0</td>\n",
       "      <td>6.0</td>\n",
       "      <td>1000.0</td>\n",
       "      <td>1000.0</td>\n",
       "      <td>24.52</td>\n",
       "      <td>05/05/2015</td>\n",
       "      <td>60</td>\n",
       "      <td>4.0</td>\n",
       "      <td>False</td>\n",
       "      <td>1</td>\n",
       "      <td>8.0</td>\n",
       "      <td>0</td>\n",
       "      <td>1.0</td>\n",
       "      <td>15To25Years</td>\n",
       "      <td>0.0957</td>\n",
       "      <td>False</td>\n",
       "      <td>NaN</td>\n",
       "    </tr>\n",
       "    <tr>\n",
       "      <th>1</th>\n",
       "      <td>2</td>\n",
       "      <td>Repaid</td>\n",
       "      <td>530.0</td>\n",
       "      <td>14</td>\n",
       "      <td>2</td>\n",
       "      <td>PÄRNU</td>\n",
       "      <td>EE</td>\n",
       "      <td>NaN</td>\n",
       "      <td>25/10/1969</td>\n",
       "      <td>30.32</td>\n",
       "      <td>4.0</td>\n",
       "      <td>MoreThan5Years</td>\n",
       "      <td>SpecialistOfficeWorker</td>\n",
       "      <td>3.0</td>\n",
       "      <td>7</td>\n",
       "      <td>1.0</td>\n",
       "      <td>9.0</td>\n",
       "      <td>633.0</td>\n",
       "      <td>633.0</td>\n",
       "      <td>25.68</td>\n",
       "      <td>19/10/2015</td>\n",
       "      <td>60</td>\n",
       "      <td>1.0</td>\n",
       "      <td>True</td>\n",
       "      <td>0</td>\n",
       "      <td>1.0</td>\n",
       "      <td>2</td>\n",
       "      <td>4.0</td>\n",
       "      <td>15To25Years</td>\n",
       "      <td>0.1034</td>\n",
       "      <td>False</td>\n",
       "      <td>NaN</td>\n",
       "    </tr>\n",
       "    <tr>\n",
       "      <th>2</th>\n",
       "      <td>3</td>\n",
       "      <td>Current</td>\n",
       "      <td>5500.0</td>\n",
       "      <td>22</td>\n",
       "      <td>4</td>\n",
       "      <td>TALLINN</td>\n",
       "      <td>EE</td>\n",
       "      <td>NaN</td>\n",
       "      <td>22/11/1965</td>\n",
       "      <td>29.57</td>\n",
       "      <td>4.0</td>\n",
       "      <td>MoreThan5Years</td>\n",
       "      <td>Owner</td>\n",
       "      <td>5.0</td>\n",
       "      <td>1</td>\n",
       "      <td>0.0</td>\n",
       "      <td>1.0</td>\n",
       "      <td>550.0</td>\n",
       "      <td>550.0</td>\n",
       "      <td>21.62</td>\n",
       "      <td>02/09/2015</td>\n",
       "      <td>60</td>\n",
       "      <td>4.0</td>\n",
       "      <td>True</td>\n",
       "      <td>0</td>\n",
       "      <td>13.0</td>\n",
       "      <td>2</td>\n",
       "      <td>3.0</td>\n",
       "      <td>MoreThan25Years</td>\n",
       "      <td>0.0772</td>\n",
       "      <td>False</td>\n",
       "      <td>NaN</td>\n",
       "    </tr>\n",
       "    <tr>\n",
       "      <th>3</th>\n",
       "      <td>4</td>\n",
       "      <td>Repaid</td>\n",
       "      <td>6900.0</td>\n",
       "      <td>15</td>\n",
       "      <td>3</td>\n",
       "      <td>KEHTNA</td>\n",
       "      <td>EE</td>\n",
       "      <td>NaN</td>\n",
       "      <td>05/12/1983</td>\n",
       "      <td>45.75</td>\n",
       "      <td>2.0</td>\n",
       "      <td>MoreThan5Years</td>\n",
       "      <td>Worker</td>\n",
       "      <td>3.0</td>\n",
       "      <td>10</td>\n",
       "      <td>0.0</td>\n",
       "      <td>1.0</td>\n",
       "      <td>833.0</td>\n",
       "      <td>833.0</td>\n",
       "      <td>21.63</td>\n",
       "      <td>20/05/2015</td>\n",
       "      <td>60</td>\n",
       "      <td>3.0</td>\n",
       "      <td>False</td>\n",
       "      <td>1</td>\n",
       "      <td>19.0</td>\n",
       "      <td>7</td>\n",
       "      <td>4.0</td>\n",
       "      <td>5To10Years</td>\n",
       "      <td>0.0773</td>\n",
       "      <td>False</td>\n",
       "      <td>NaN</td>\n",
       "    </tr>\n",
       "    <tr>\n",
       "      <th>4</th>\n",
       "      <td>5</td>\n",
       "      <td>Current</td>\n",
       "      <td>2655.0</td>\n",
       "      <td>10</td>\n",
       "      <td>3</td>\n",
       "      <td>KIVIÕLI</td>\n",
       "      <td>EE</td>\n",
       "      <td>NaN</td>\n",
       "      <td>13/07/1980</td>\n",
       "      <td>25.40</td>\n",
       "      <td>4.0</td>\n",
       "      <td>MoreThan5Years</td>\n",
       "      <td>Worker</td>\n",
       "      <td>3.0</td>\n",
       "      <td>6</td>\n",
       "      <td>1.0</td>\n",
       "      <td>4.0</td>\n",
       "      <td>341.0</td>\n",
       "      <td>341.0</td>\n",
       "      <td>26.88</td>\n",
       "      <td>29/12/2015</td>\n",
       "      <td>60</td>\n",
       "      <td>3.0</td>\n",
       "      <td>True</td>\n",
       "      <td>0</td>\n",
       "      <td>17.0</td>\n",
       "      <td>2</td>\n",
       "      <td>4.0</td>\n",
       "      <td>5To10Years</td>\n",
       "      <td>0.1898</td>\n",
       "      <td>False</td>\n",
       "      <td>NaN</td>\n",
       "    </tr>\n",
       "  </tbody>\n",
       "</table>\n",
       "</div>"
      ],
      "text/plain": [
       "   ID   Status  Amount  ApplicationSignedHour  ApplicationSignedWeekday  \\\n",
       "0   0  Current  5000.0                     12                         4   \n",
       "1   2   Repaid   530.0                     14                         2   \n",
       "2   3  Current  5500.0                     22                         4   \n",
       "3   4   Repaid  6900.0                     15                         3   \n",
       "4   5  Current  2655.0                     10                         3   \n",
       "\n",
       "      City Country CreditScoreEsEquifaxRisk DateOfBirth  DebtToIncome  \\\n",
       "0    AESPA      EE                      NaN  21/11/1975         51.52   \n",
       "1    PÄRNU      EE                      NaN  25/10/1969         30.32   \n",
       "2  TALLINN      EE                      NaN  22/11/1965         29.57   \n",
       "3   KEHTNA      EE                      NaN  05/12/1983         45.75   \n",
       "4  KIVIÕLI      EE                      NaN  13/07/1980         25.40   \n",
       "\n",
       "   Education EmploymentDurationCurrentEmployer      EmploymentPosition  \\\n",
       "0        4.0                        UpTo5Years                  Worker   \n",
       "1        4.0                    MoreThan5Years  SpecialistOfficeWorker   \n",
       "2        4.0                    MoreThan5Years                   Owner   \n",
       "3        2.0                    MoreThan5Years                  Worker   \n",
       "4        4.0                    MoreThan5Years                  Worker   \n",
       "\n",
       "   EmploymentStatus  ExistingLiabilities  Gender  HomeOwnershipType  \\\n",
       "0               3.0                    9     0.0                6.0   \n",
       "1               3.0                    7     1.0                9.0   \n",
       "2               5.0                    1     0.0                1.0   \n",
       "3               3.0                   10     0.0                1.0   \n",
       "4               3.0                    6     1.0                4.0   \n",
       "\n",
       "   IncomeFromPrincipalEmployer  IncomeTotal  Interest rate (APR)    LoanDate  \\\n",
       "0                       1000.0       1000.0                24.52  05/05/2015   \n",
       "1                        633.0        633.0                25.68  19/10/2015   \n",
       "2                        550.0        550.0                21.62  02/09/2015   \n",
       "3                        833.0        833.0                21.63  20/05/2015   \n",
       "4                        341.0        341.0                26.88  29/12/2015   \n",
       "\n",
       "   LoanDuration  MaritalStatus  NewCreditCustomer  \\\n",
       "0            60            4.0              False   \n",
       "1            60            1.0               True   \n",
       "2            60            4.0               True   \n",
       "3            60            3.0              False   \n",
       "4            60            3.0               True   \n",
       "\n",
       "   NoOfPreviousLoansBeforeLoan  OccupationArea  UseOfLoan  VerificationType  \\\n",
       "0                            1             8.0          0               1.0   \n",
       "1                            0             1.0          2               4.0   \n",
       "2                            0            13.0          2               3.0   \n",
       "3                            1            19.0          7               4.0   \n",
       "4                            0            17.0          2               4.0   \n",
       "\n",
       "    WorkExperience  PreviousScore  Defaulted DefaultDate  \n",
       "0      15To25Years         0.0957      False         NaN  \n",
       "1      15To25Years         0.1034      False         NaN  \n",
       "2  MoreThan25Years         0.0772      False         NaN  \n",
       "3       5To10Years         0.0773      False         NaN  \n",
       "4       5To10Years         0.1898      False         NaN  "
      ]
     },
     "execution_count": 4,
     "metadata": {},
     "output_type": "execute_result"
    }
   ],
   "source": [
    "# load dataset\n",
    "data = pd.read_csv(r'C:\\Users\\dasantos\\MyProjects\\Credit_Scoring\\packages\\model\\datasets\\loans_data.csv')\n",
    "print(data.shape)\n",
    "data.head()"
   ]
  },
  {
   "cell_type": "markdown",
   "metadata": {},
   "source": [
    "## Separate dataset into train and test\n",
    "\n",
    "Before beginning to engineer our features, it is important to separate our data intro training and testing set. This is to avoid over-fitting. There is an element of randomness in dividing the dataset, so remember to set the seed."
   ]
  },
  {
   "cell_type": "code",
   "execution_count": 25,
   "metadata": {},
   "outputs": [
    {
     "data": {
      "text/plain": [
       "((22333, 32), (5584, 32))"
      ]
     },
     "execution_count": 25,
     "metadata": {},
     "output_type": "execute_result"
    }
   ],
   "source": [
    "X_train, X_test, y_train, y_test = train_test_split(data, data.Defaulted, \n",
    "                                                   test_size = 0.2,\n",
    "                                                   random_state = 0)\n",
    "X_train.shape, X_test.shape"
   ]
  },
  {
   "cell_type": "markdown",
   "metadata": {},
   "source": [
    "## Selected features"
   ]
  },
  {
   "cell_type": "code",
   "execution_count": 15,
   "metadata": {},
   "outputs": [
    {
     "name": "stdout",
     "output_type": "stream",
     "text": [
      "Number of features:  17\n"
     ]
    }
   ],
   "source": [
    "# load selected features\n",
    "features = pd.read_csv(r'C:\\Users\\dasantos\\MyProjects\\Credit_Scoring\\packages\\model\\datasets\\selected_features.csv', \n",
    "                       header=None)\n",
    "features = [x for x in features[0]]\n",
    "print('Number of features: ', len(features))"
   ]
  },
  {
   "cell_type": "markdown",
   "metadata": {},
   "source": [
    "### Missing values"
   ]
  },
  {
   "cell_type": "code",
   "execution_count": 26,
   "metadata": {},
   "outputs": [
    {
     "name": "stdout",
     "output_type": "stream",
     "text": [
      "City 0.007  % missing values\n",
      "EmploymentPosition 0.014  % missing values\n"
     ]
    }
   ],
   "source": [
    "# make a list of the categorical variables that contain missing values\n",
    "vars_with_na = [var for var in features if X_train[var].isnull().sum()>1 and X_train[var].dtypes=='O']\n",
    "\n",
    "# print the variable name and the percentage of missing values\n",
    "for var in vars_with_na:\n",
    "    print(var, np.round(X_train[var].isnull().mean(), 3),  ' % missing values')"
   ]
  },
  {
   "cell_type": "markdown",
   "metadata": {},
   "source": [
    "#### Categorical Values"
   ]
  },
  {
   "cell_type": "code",
   "execution_count": 23,
   "metadata": {},
   "outputs": [],
   "source": [
    "cat_with_na = [var for var in X_train.columns if X_train[var].isnull().sum()>1 and X_train[var].dtypes=='O']"
   ]
  },
  {
   "cell_type": "code",
   "execution_count": 27,
   "metadata": {},
   "outputs": [
    {
     "data": {
      "text/plain": [
       "City                                 0\n",
       "CreditScoreEsEquifaxRisk             0\n",
       "EmploymentDurationCurrentEmployer    0\n",
       "EmploymentPosition                   0\n",
       "WorkExperience                       0\n",
       "DefaultDate                          0\n",
       "dtype: int64"
      ]
     },
     "execution_count": 27,
     "metadata": {},
     "output_type": "execute_result"
    }
   ],
   "source": [
    "mode_var_dict = {}\n",
    "# replace the missing values\n",
    "for var in cat_with_na:\n",
    "    \n",
    "    # calculate the mode\n",
    "    mode_val = X_train[var].mode()[0]\n",
    "    \n",
    "    # we persist the mean in the dictionary\n",
    "    mode_var_dict[var] = mode_val\n",
    "    \n",
    "    # train\n",
    "    X_train[var+'_na'] = np.where(X_train[var].isnull(), 1, 0)\n",
    "    X_train[var].fillna(mode_val, inplace=True)\n",
    "    \n",
    "    # test\n",
    "    X_test[var+'_na'] = np.where(X_test[var].isnull(), 1, 0)\n",
    "    X_test[var].fillna(mode_val, inplace=True)\n",
    "    \n",
    "# we save the dictionary for later\n",
    "np.save('mode_var_dict.npy', mode_var_dict)\n",
    "    \n",
    "# check that we have no more missing values in the engineered variables\n",
    "X_train[cat_with_na].isnull().sum()"
   ]
  },
  {
   "cell_type": "markdown",
   "metadata": {},
   "source": [
    "#### Numerical Variables"
   ]
  },
  {
   "cell_type": "code",
   "execution_count": 28,
   "metadata": {},
   "outputs": [
    {
     "name": "stdout",
     "output_type": "stream",
     "text": [
      "DebtToIncome 0.002  missing values\n",
      "Education 0.002  missing values\n",
      "EmploymentStatus 0.006  missing values\n",
      "Gender 0.002  missing values\n",
      "HomeOwnershipType 0.048  missing values\n",
      "MaritalStatus 0.002  missing values\n",
      "OccupationArea 0.003  missing values\n",
      "VerificationType 0.002  missing values\n",
      "PreviousScore 0.079  missing values\n"
     ]
    }
   ],
   "source": [
    "num_with_na = [var for var in X_train.columns if X_train[var].isnull().sum()>1 and X_train[var].dtypes!='O']\n",
    "\n",
    "for var in num_with_na:\n",
    "    print(var, np.round(X_train[var].isnull().mean(), 3),  ' missing values')"
   ]
  },
  {
   "cell_type": "code",
   "execution_count": 29,
   "metadata": {},
   "outputs": [
    {
     "data": {
      "text/plain": [
       "DebtToIncome         0\n",
       "Education            0\n",
       "EmploymentStatus     0\n",
       "Gender               0\n",
       "HomeOwnershipType    0\n",
       "MaritalStatus        0\n",
       "OccupationArea       0\n",
       "VerificationType     0\n",
       "PreviousScore        0\n",
       "dtype: int64"
      ]
     },
     "execution_count": 29,
     "metadata": {},
     "output_type": "execute_result"
    }
   ],
   "source": [
    "mean_var_dict = {}\n",
    "\n",
    "# replace the missing values\n",
    "for var in num_with_na:\n",
    "    \n",
    "    # calculate the mode\n",
    "    mean_val = X_train[var].mean()\n",
    "    \n",
    "    # we persist the mean in the dictionary\n",
    "    mean_var_dict[var] = mode_val\n",
    "    \n",
    "    # train\n",
    "    X_train[var+'_na'] = np.where(X_train[var].isnull(), 1, 0)\n",
    "    X_train[var].fillna(mean_val, inplace=True)\n",
    "    \n",
    "    # test\n",
    "    X_test[var+'_na'] = np.where(X_test[var].isnull(), 1, 0)\n",
    "    X_test[var].fillna(mean_val, inplace=True)\n",
    "    \n",
    "# we save the dictionary for later\n",
    "np.save('mean_var_dict.npy', mean_var_dict)\n",
    "    \n",
    "# check that we have no more missing values in the engineered variables\n",
    "X_train[num_with_na].isnull().sum()"
   ]
  },
  {
   "cell_type": "markdown",
   "metadata": {},
   "source": [
    "### Temporal Variables"
   ]
  },
  {
   "cell_type": "code",
   "execution_count": 38,
   "metadata": {},
   "outputs": [],
   "source": [
    "temp_variables = ['DateOfBirth', 'LoanDate']\n",
    "\n",
    "def get_age_month(df, vars_list):\n",
    "    df = df.copy()\n",
    "    \n",
    "    for var in vars_list:\n",
    "        \n",
    "        if var == 'DateOfBirth':\n",
    "            df[var] = pd.to_datetime(df[var])\n",
    "            df[var] = pd.DatetimeIndex(df[var]).year\n",
    "        if var == 'LoanDate':\n",
    "            df[var] = pd.to_datetime(df[var])\n",
    "            df[var] = pd.DatetimeIndex(df[var]).month\n",
    "    \n",
    "    return df\n",
    "\n",
    "X_train = get_age_month(X_train, temp_variables)\n",
    "X_test = get_age_month(X_test, temp_variables)"
   ]
  },
  {
   "cell_type": "markdown",
   "metadata": {},
   "source": [
    "### Categorical Variables"
   ]
  },
  {
   "cell_type": "markdown",
   "metadata": {},
   "source": [
    "#### Get top observations for variables with high cardinality"
   ]
  },
  {
   "cell_type": "code",
   "execution_count": 43,
   "metadata": {},
   "outputs": [
    {
     "name": "stdout",
     "output_type": "stream",
     "text": [
      "City 3996\n",
      "EmploymentPosition 2373\n"
     ]
    }
   ],
   "source": [
    "high_cardinality_vars = ['City', 'EmploymentPosition']\n",
    "\n",
    "# high cardinality\n",
    "for var in cat_vars:\n",
    "    if len(X_train[var].unique() ) > 10:\n",
    "        print(var, len(X_train[var].unique()))"
   ]
  },
  {
   "cell_type": "code",
   "execution_count": 48,
   "metadata": {},
   "outputs": [],
   "source": [
    "def find_top_labels(df, var):\n",
    "    # finds the top labels in the dataset\n",
    "    df = df.copy()\n",
    "    top = df[var].value_counts().head(7).index\n",
    "    return top\n",
    "\n",
    "top_labels_dict = {}\n",
    "\n",
    "for var in cat_vars:\n",
    "    top_labels = find_top_labels(X_train, var)\n",
    "    \n",
    "    # we save the list in a dictionary\n",
    "    top_labels_dict[var] = top_labels\n",
    "    \n",
    "    X_train[var] = np.where(X_train[var].isin(top_labels), X_train[var], 'Other')\n",
    "    X_test[var] = np.where(X_test[var].isin(top_labels), X_test[var], 'Other')\n",
    "\n",
    "# now we save the dictionary\n",
    "np.save('TopLabels.npy', top_labels_dict)"
   ]
  },
  {
   "cell_type": "markdown",
   "metadata": {},
   "source": [
    "#### Convert strings to numbers"
   ]
  },
  {
   "cell_type": "code",
   "execution_count": 61,
   "metadata": {},
   "outputs": [
    {
     "data": {
      "text/plain": [
       "['Status',\n",
       " 'Country',\n",
       " 'CreditScoreEsEquifaxRisk',\n",
       " 'EmploymentDurationCurrentEmployer',\n",
       " 'WorkExperience',\n",
       " 'DefaultDate']"
      ]
     },
     "execution_count": 61,
     "metadata": {},
     "output_type": "execute_result"
    }
   ],
   "source": [
    "cat_vars = [var for var in X_train.columns if X_train[var].dtypes == 'O']\n",
    "cat_vars"
   ]
  },
  {
   "cell_type": "code",
   "execution_count": 62,
   "metadata": {},
   "outputs": [],
   "source": [
    "def replace_categories(train, test, var, target):\n",
    "    ordered_labels = train.groupby([var])[target].mean().sort_values().index\n",
    "    ordinal_label = {k:i for i, k in enumerate(ordered_labels, 0)} \n",
    "    train[var] = train[var].map(ordinal_label)\n",
    "    test[var] = test[var].map(ordinal_label)"
   ]
  },
  {
   "cell_type": "code",
   "execution_count": 63,
   "metadata": {},
   "outputs": [],
   "source": [
    "for var in cat_vars:\n",
    "    replace_categories(X_train, X_test, var, 'Defaulted')"
   ]
  },
  {
   "cell_type": "markdown",
   "metadata": {},
   "source": [
    "### Feature Scaling"
   ]
  },
  {
   "cell_type": "code",
   "execution_count": 65,
   "metadata": {},
   "outputs": [],
   "source": [
    "# capture the target\n",
    "y_train = X_train['Defaulted']\n",
    "y_test = X_test['Defaulted']"
   ]
  },
  {
   "cell_type": "code",
   "execution_count": 66,
   "metadata": {},
   "outputs": [
    {
     "data": {
      "text/plain": [
       "['scaler.pkl']"
      ]
     },
     "execution_count": 66,
     "metadata": {},
     "output_type": "execute_result"
    }
   ],
   "source": [
    "# fit scaler\n",
    "scaler = MinMaxScaler() # create an instance\n",
    "scaler.fit(X_train[features]) #  fit  the scaler to the train set for later use\n",
    "\n",
    "# we persist the model for future use\n",
    "joblib.dump(scaler, 'scaler.pkl')"
   ]
  },
  {
   "cell_type": "code",
   "execution_count": 67,
   "metadata": {},
   "outputs": [],
   "source": [
    "# transform the train and test set, and add on the Id and SalePrice variables\n",
    "X_train = pd.DataFrame(scaler.transform(X_train[features]), columns=features)\n",
    "X_test = pd.DataFrame(scaler.transform(X_test[features]), columns=features)"
   ]
  },
  {
   "cell_type": "markdown",
   "metadata": {},
   "source": [
    "### Model"
   ]
  },
  {
   "cell_type": "code",
   "execution_count": 70,
   "metadata": {},
   "outputs": [
    {
     "data": {
      "text/plain": [
       "['random_forest_classification.pkl']"
      ]
     },
     "execution_count": 70,
     "metadata": {},
     "output_type": "execute_result"
    }
   ],
   "source": [
    "# train the model\n",
    "rf = RandomForestClassifier(n_estimators=10, max_depth = 5, max_leaf_nodes = 45, random_state=0)\n",
    "rf.fit(X_train, y_train)\n",
    "\n",
    "# we persist the model for future use\n",
    "joblib.dump(rf, 'random_forest_classification.pkl')"
   ]
  },
  {
   "cell_type": "code",
   "execution_count": 75,
   "metadata": {},
   "outputs": [
    {
     "name": "stdout",
     "output_type": "stream",
     "text": [
      "ROC_AUC_SCORE_TRAIN:  0.7867251062844451\n",
      "ROC_AUC_SCORE_TEST:  0.787146899551947\n"
     ]
    }
   ],
   "source": [
    "pred_proba = rf.predict_proba(X_train)\n",
    "print('ROC_AUC_SCORE_TRAIN: ', roc_auc_score(y_train, pred_proba[:,1]))\n",
    "\n",
    "pred_proba = rf.predict_proba(X_test)\n",
    "print('ROC_AUC_SCORE_TEST: ', roc_auc_score(y_test, pred_proba[:,1]))"
   ]
  }
 ],
 "metadata": {
  "kernelspec": {
   "display_name": "Python 3",
   "language": "python",
   "name": "python3"
  },
  "language_info": {
   "codemirror_mode": {
    "name": "ipython",
    "version": 3
   },
   "file_extension": ".py",
   "mimetype": "text/x-python",
   "name": "python",
   "nbconvert_exporter": "python",
   "pygments_lexer": "ipython3",
   "version": "3.6.4"
  }
 },
 "nbformat": 4,
 "nbformat_minor": 2
}
